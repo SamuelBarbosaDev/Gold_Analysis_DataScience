{
 "cells": [
  {
   "cell_type": "code",
   "execution_count": null,
   "metadata": {},
   "outputs": [],
   "source": []
  }
 ],
 "metadata": {
  "kernelspec": {
   "display_name": "venv",
   "language": "python",
   "name": "python3"
  },
  "language_info": {
   "name": "python",
   "version": "3.10.6 (main, Nov 14 2022, 16:10:14) [GCC 11.3.0]"
  },
  "vscode": {
   "interpreter": {
    "hash": "277fde9b02548952f376cf845990441c83576f6eadf8021f5b6cfb10cc048ede"
   }
  }
 },
 "nbformat": 4,
 "nbformat_minor": 5
}
