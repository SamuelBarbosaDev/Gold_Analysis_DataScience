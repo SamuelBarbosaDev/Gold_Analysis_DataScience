{
 "cells": [
  {
   "cell_type": "code",
   "execution_count": 31,
   "metadata": {},
   "outputs": [],
   "source": [
    "import pandas as pd\n",
    "import matplotlib.pyplot as plt"
   ]
  },
  {
   "cell_type": "code",
   "execution_count": 42,
   "metadata": {},
   "outputs": [],
   "source": [
    "class GoldAnalysis():\n",
    "    \"\"\"\n",
    "        analysis of the price of gold in relation to the increase in the monetary base.\n",
    "    \"\"\"\n",
    "    def __init__(self):\n",
    "        self.path = r'dataframe.csv'\n",
    "        self.df = pd.read_csv(\n",
    "            self.path\n",
    "        )\n",
    "\n",
    "    def infos(self):\n",
    "        print(self.df.info())\n",
    "\n",
    "    def grafico_de_linha(self):\n",
    "        figure = plt.figure(\n",
    "            figsize=(10, 8)\n",
    "        )\n",
    "\n",
    "        plt.plot(\n",
    "            self.df['Year'],\n",
    "            self.df['Average_Price'],\n",
    "        )\n",
    "\n",
    "        "
   ]
  },
  {
   "cell_type": "code",
   "execution_count": 43,
   "metadata": {},
   "outputs": [
    {
     "name": "stdout",
     "output_type": "stream",
     "text": [
      "<class 'pandas.core.frame.DataFrame'>\n",
      "RangeIndex: 184 entries, 0 to 183\n",
      "Data columns (total 2 columns):\n",
      " #   Column         Non-Null Count  Dtype  \n",
      "---  ------         --------------  -----  \n",
      " 0   Year           184 non-null    int64  \n",
      " 1   Average_Price  184 non-null    float64\n",
      "dtypes: float64(1), int64(1)\n",
      "memory usage: 3.0 KB\n",
      "None\n"
     ]
    }
   ],
   "source": [
    "if __name__ == \"__main__\":\n",
    "    gold_analysis = GoldAnalysis()\n",
    "    gold_analysis.infos()"
   ]
  }
 ],
 "metadata": {
  "kernelspec": {
   "display_name": "venv",
   "language": "python",
   "name": "python3"
  },
  "language_info": {
   "codemirror_mode": {
    "name": "ipython",
    "version": 3
   },
   "file_extension": ".py",
   "mimetype": "text/x-python",
   "name": "python",
   "nbconvert_exporter": "python",
   "pygments_lexer": "ipython3",
   "version": "3.10.6"
  },
  "orig_nbformat": 4,
  "vscode": {
   "interpreter": {
    "hash": "277fde9b02548952f376cf845990441c83576f6eadf8021f5b6cfb10cc048ede"
   }
  }
 },
 "nbformat": 4,
 "nbformat_minor": 2
}
